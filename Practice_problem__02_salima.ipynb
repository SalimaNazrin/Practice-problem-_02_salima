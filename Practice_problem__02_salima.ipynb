{
  "nbformat": 4,
  "nbformat_minor": 0,
  "metadata": {
    "colab": {
      "provenance": []
    },
    "kernelspec": {
      "name": "python3",
      "display_name": "Python 3"
    },
    "language_info": {
      "name": "python"
    }
  },
  "cells": [
    {
      "cell_type": "code",
      "execution_count": 1,
      "metadata": {
        "colab": {
          "base_uri": "https://localhost:8080/"
        },
        "id": "C-PYWsg13jzC",
        "outputId": "5ae01408-88e0-4a28-9c04-160994167aed"
      },
      "outputs": [
        {
          "output_type": "stream",
          "name": "stdout",
          "text": [
            "Enter a string value: winter\n",
            "w = 1\n",
            "i = 1\n",
            "n = 1\n",
            "t = 1\n",
            "e = 1\n",
            "r = 1\n"
          ]
        }
      ],
      "source": [
        "test=input('Enter a string value: ')\n",
        "test_list=[]\n",
        "for i in test:\n",
        "    if i not in test_list:\n",
        "        test_list.append(i)\n",
        "        print(i,'=',test.count(i))"
      ]
    },
    {
      "cell_type": "code",
      "source": [
        "numbers=34,12,7\n",
        "if numbers[0]>numbers[1] and numbers[0]>numbers[1]:\n",
        "    print(numbers[0])\n",
        "elif numbers[1]>numbers[0] and numbers[1]>numbers[2]:\n",
        "    print(numbers[1])\n",
        "else:\n",
        "    print(numbers[2])"
      ],
      "metadata": {
        "colab": {
          "base_uri": "https://localhost:8080/"
        },
        "id": "GhOikg5k30tJ",
        "outputId": "e803493e-a552-4af9-bccd-330af75963e0"
      },
      "execution_count": 2,
      "outputs": [
        {
          "output_type": "stream",
          "name": "stdout",
          "text": [
            "34\n"
          ]
        }
      ]
    },
    {
      "cell_type": "code",
      "source": [
        "def exponent(base,exp):\n",
        "    return base**exp\n",
        "b=float(input('Enter the base: '))\n",
        "e=float(input('Enter the exponent: '))\n",
        "print(exponent(b,e))"
      ],
      "metadata": {
        "colab": {
          "base_uri": "https://localhost:8080/"
        },
        "id": "IeJntFnd33QH",
        "outputId": "ae9e426b-9ef8-4263-f9ff-504d35816916"
      },
      "execution_count": 3,
      "outputs": [
        {
          "output_type": "stream",
          "name": "stdout",
          "text": [
            "Enter the base: 3\n",
            "Enter the exponent: 4\n",
            "81.0\n"
          ]
        }
      ]
    },
    {
      "cell_type": "code",
      "source": [
        "def sum(n):\n",
        "    s=0\n",
        "    for i in range(1,n):\n",
        "        s+=i**3\n",
        "    return s\n",
        "number=4\n",
        "print(sum(number))"
      ],
      "metadata": {
        "colab": {
          "base_uri": "https://localhost:8080/"
        },
        "id": "PW5e8TNh39j-",
        "outputId": "1a675786-9716-4604-ee6d-17d0692557b7"
      },
      "execution_count": 4,
      "outputs": [
        {
          "output_type": "stream",
          "name": "stdout",
          "text": [
            "36\n"
          ]
        }
      ]
    },
    {
      "cell_type": "code",
      "source": [
        "for i in range(1,11):\n",
        "    if i%2==0 and i%5==0:\n",
        "        print('FizzBuzz')\n",
        "    elif i%2==0:\n",
        "        print('Fizz')\n",
        "    elif i%5==0:\n",
        "        print('Buzz')\n",
        "    else:\n",
        "        print(i)"
      ],
      "metadata": {
        "colab": {
          "base_uri": "https://localhost:8080/"
        },
        "id": "PayZLbXw4ATY",
        "outputId": "c6dbd60e-1755-488b-a326-18d584264aa2"
      },
      "execution_count": 5,
      "outputs": [
        {
          "output_type": "stream",
          "name": "stdout",
          "text": [
            "1\n",
            "Fizz\n",
            "3\n",
            "Fizz\n",
            "Buzz\n",
            "Fizz\n",
            "7\n",
            "Fizz\n",
            "9\n",
            "FizzBuzz\n"
          ]
        }
      ]
    },
    {
      "cell_type": "code",
      "source": [
        "numbers=[2,3,4,2,5,2,]\n",
        "large=1\n",
        "for number in numbers:\n",
        "    if numbers.count(number)>large:\n",
        "        large=numbers.count(number)\n",
        "        frequent=number\n",
        "print(frequent)"
      ],
      "metadata": {
        "colab": {
          "base_uri": "https://localhost:8080/"
        },
        "id": "PtnTN7xx4D8M",
        "outputId": "91631960-d88d-4ad5-d8f0-eeaa9d9b00af"
      },
      "execution_count": 6,
      "outputs": [
        {
          "output_type": "stream",
          "name": "stdout",
          "text": [
            "2\n"
          ]
        }
      ]
    },
    {
      "cell_type": "code",
      "source": [
        "numbers=[2,1,3,1]\n",
        "sum=0\n",
        "for number in numbers:\n",
        "    sum+=number**2\n",
        "print(sum)"
      ],
      "metadata": {
        "colab": {
          "base_uri": "https://localhost:8080/"
        },
        "id": "Zr07r_0p4F6s",
        "outputId": "c8619dd9-781f-4c94-e208-b519e12b7324"
      },
      "execution_count": 7,
      "outputs": [
        {
          "output_type": "stream",
          "name": "stdout",
          "text": [
            "15\n"
          ]
        }
      ]
    },
    {
      "cell_type": "code",
      "source": [
        "for i in range(1,16):\n",
        "    if i%2==0:\n",
        "        print(i,'- even')\n",
        "    else:\n",
        "        print(i,'- odd')"
      ],
      "metadata": {
        "colab": {
          "base_uri": "https://localhost:8080/"
        },
        "id": "GhXFjlWN4H1t",
        "outputId": "df387f57-1eb5-426c-95ac-0792654ac78a"
      },
      "execution_count": 8,
      "outputs": [
        {
          "output_type": "stream",
          "name": "stdout",
          "text": [
            "1 - odd\n",
            "2 - even\n",
            "3 - odd\n",
            "4 - even\n",
            "5 - odd\n",
            "6 - even\n",
            "7 - odd\n",
            "8 - even\n",
            "9 - odd\n",
            "10 - even\n",
            "11 - odd\n",
            "12 - even\n",
            "13 - odd\n",
            "14 - even\n",
            "15 - odd\n"
          ]
        }
      ]
    },
    {
      "cell_type": "code",
      "source": [
        "\n",
        "f=float(input('Temperature in Fahrenheit= '))\n",
        "c=((f-32)/9)*5\n",
        "print('Temperature in Celsius=',c)"
      ],
      "metadata": {
        "colab": {
          "base_uri": "https://localhost:8080/"
        },
        "id": "dQJvioYH4KUg",
        "outputId": "7cae5a86-ea8f-4f17-cf06-b3b3c65e4dec"
      },
      "execution_count": 9,
      "outputs": [
        {
          "output_type": "stream",
          "name": "stdout",
          "text": [
            "Temperature in Fahrenheit= 43\n",
            "Temperature in Celsius= 6.111111111111112\n"
          ]
        }
      ]
    },
    {
      "cell_type": "code",
      "source": [
        "def factorial(n):\n",
        "    m=1\n",
        "    for i in range(1,n+1):\n",
        "        m*=i\n",
        "    return m\n",
        "number=3\n",
        "print(factorial(number))"
      ],
      "metadata": {
        "colab": {
          "base_uri": "https://localhost:8080/"
        },
        "id": "yFFbJ0kA4OuE",
        "outputId": "99fd4385-728a-4eaf-a825-475776ef7329"
      },
      "execution_count": 10,
      "outputs": [
        {
          "output_type": "stream",
          "name": "stdout",
          "text": [
            "6\n"
          ]
        }
      ]
    }
  ]
}